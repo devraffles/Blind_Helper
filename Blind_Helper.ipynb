{
  "nbformat": 4,
  "nbformat_minor": 0,
  "metadata": {
    "colab": {
      "provenance": [],
      "authorship_tag": "ABX9TyMq/CEbdL2pmpX+m61WteoX",
      "include_colab_link": true
    },
    "kernelspec": {
      "name": "python3",
      "display_name": "Python 3"
    },
    "language_info": {
      "name": "python"
    }
  },
  "cells": [
    {
      "cell_type": "markdown",
      "metadata": {
        "id": "view-in-github",
        "colab_type": "text"
      },
      "source": [
        "<a href=\"https://colab.research.google.com/github/rafaelnator/Blind_Helper/blob/Blind-Helper-chat-versao-02/Blind_Helper.ipynb\" target=\"_parent\"><img src=\"https://colab.research.google.com/assets/colab-badge.svg\" alt=\"Open In Colab\"/></a>"
      ]
    },
    {
      "cell_type": "markdown",
      "source": [
        "#Blind_Helper\n"
      ],
      "metadata": {
        "id": "uWHH3ET0Bxjm"
      }
    },
    {
      "cell_type": "markdown",
      "source": [
        "Projetos de Referência\n",
        "\n",
        "\n",
        "\n",
        "*   Visão geral da API Gemini:\n",
        "\n",
        "      https://ai.google.dev/gemini-api/docs/api-overview?hl=pt-br#image_requirements\n",
        "\n",
        "*   Guia de início rápido da API Gemini:\n",
        "\n",
        "      https://ai.google.dev/gemini-api/docs/quickstart?hl=pt-br\n",
        "\n",
        "*   How to delete a locally uploaded file on google colab? (Como excluir um arquivo carregado localmente no Google Colab?)\n",
        "\n",
        "      https://stackoverflow.com/questions/52265978/how-to-delete-a-locally-uploaded-file-on-google-colab\n",
        "\n",
        "*   Uploading Local Files Using Google Colab (Fazendo upload de arquivos locais usando o Google Colab):\n",
        "\n",
        "      https://saturncloud.io/blog/uploading-local-files-using-google-colab/"
      ],
      "metadata": {
        "id": "tIBuBgo-FG_e"
      }
    },
    {
      "cell_type": "markdown",
      "source": [
        "## Introdução"
      ],
      "metadata": {
        "id": "OO6T-5PyCUK0"
      }
    },
    {
      "cell_type": "markdown",
      "source": [
        "### Instalando o SDK do Google"
      ],
      "metadata": {
        "id": "JQ4Uv2ZeCchc"
      }
    },
    {
      "cell_type": "code",
      "execution_count": 23,
      "metadata": {
        "id": "8_ohvWEQfl6r"
      },
      "outputs": [],
      "source": [
        "!pip install -U -q google-generativeai"
      ]
    },
    {
      "cell_type": "markdown",
      "source": [
        "### 📚 Bibliotecas"
      ],
      "metadata": {
        "id": "dgL_4WdZD4cf"
      }
    },
    {
      "cell_type": "code",
      "source": [
        "import google.generativeai as genai\n",
        "import os\n",
        "from google.colab import files\n",
        "from google.colab import userdata"
      ],
      "metadata": {
        "id": "mlEmCH22ADJW"
      },
      "execution_count": 24,
      "outputs": []
    },
    {
      "cell_type": "markdown",
      "source": [
        "### 🧰 Configurações do Gemini IA"
      ],
      "metadata": {
        "id": "bwrV7kqhD9As"
      }
    },
    {
      "cell_type": "code",
      "source": [
        "api_key = userdata.get('api_key')\n",
        "genai.configure(api_key = api_key)\n",
        "\n",
        "generation_config = {\n",
        "    'candidate_count': 1,\n",
        "    'temperature': 0.5,\n",
        "}\n",
        "\n",
        "safety_settings = {\n",
        "    'HARASSMENT': 'BLOCK_LOW_AND_ABOVE',\n",
        "    'HATE': 'BLOCK_LOW_AND_ABOVE',\n",
        "    'SEXUAL': 'BLOCK_LOW_AND_ABOVE',\n",
        "    'DANGEROUS': 'BLOCK_LOW_AND_ABOVE',\n",
        "}\n",
        "\n",
        "system_instruction = \"Aja como profissional especialista em fotos, imagemdescreva com detalhamento sendo fiel, em Portugues do Brasil\"\n",
        "\n",
        "model_gemini = \"gemini-1.5-pro-latest\"\n",
        "\n",
        "model = genai.GenerativeModel(model_name = model_gemini,\n",
        "                              generation_config = generation_config,\n",
        "                              system_instruction=system_instruction,\n",
        "                              safety_settings = safety_settings)"
      ],
      "metadata": {
        "id": "7NSw1uxJAFvm"
      },
      "execution_count": 25,
      "outputs": []
    },
    {
      "cell_type": "markdown",
      "source": [
        "### Chatbot"
      ],
      "metadata": {
        "id": "FrXQvaIwEmEE"
      }
    },
    {
      "cell_type": "markdown",
      "source": [
        "#### Funcionalidades do Blind Helper"
      ],
      "metadata": {
        "id": "BJgnWA7AEvCt"
      }
    },
    {
      "cell_type": "code",
      "source": [
        "chat = model.start_chat(history = [])\n",
        "\n",
        "print('-----------------------------------------------')\n",
        "print('|       Seja Bem-Vindo ao Blind Helper        |')\n",
        "print('-----------------------------------------------')\n",
        "\n",
        "print('\\n-------------------------------------------------')\n",
        "print('|    Escolha qual Funcionalidade Desejada       |')\n",
        "print('-------------------------------------------------')\n",
        "print('|            Descrever uma Imagem               |')\n",
        "print('-------------------------------------------------')\n",
        "print('|          Digite fim para finalizar            |')\n",
        "print('-------------------------------------------------')\n",
        "\n",
        "prompt = input('\\nDigite sua opção: ')"
      ],
      "metadata": {
        "colab": {
          "base_uri": "https://localhost:8080/"
        },
        "id": "CTSo6vn8AJke",
        "outputId": "b94bfca3-1bc2-455f-9a8d-dd4fc15244a3"
      },
      "execution_count": 26,
      "outputs": [
        {
          "name": "stdout",
          "output_type": "stream",
          "text": [
            "-----------------------------------------------\n",
            "|       Seja Bem-Vindo ao Blind Helper        |\n",
            "-----------------------------------------------\n",
            "\n",
            "-------------------------------------------------\n",
            "|    Escolha qual Funcionalidade Desejada       |\n",
            "-------------------------------------------------\n",
            "|            Descrever uma Imagem               |\n",
            "-------------------------------------------------\n",
            "|          Digite fim para finalizar            |\n",
            "-------------------------------------------------\n",
            "\n",
            "Digite sua opção: Descrever uma Imagem\n"
          ]
        }
      ]
    },
    {
      "cell_type": "markdown",
      "source": [
        "#### 💬 Loop Chat"
      ],
      "metadata": {
        "id": "En3_lOUVE3DU"
      }
    },
    {
      "cell_type": "code",
      "source": [
        "while prompt != 'fim':\n",
        "\n",
        "  print('\\n')\n",
        "\n",
        "  #Usando biblioteca do collab para receber a imagem a ser analizada pelo Gemini IA\n",
        "  uploaded = files.upload()\n",
        "  picture = next(iter(uploaded))\n",
        "\n",
        "  #Envio do prompt com a imagem enviada pelo usuário\n",
        "  prompt = [genai.upload_file(picture), \"Descreva com detalhes a imagem\"]\n",
        "  response = chat.send_message(prompt)\n",
        "\n",
        "  print('---------------------------------------------------------------------')\n",
        "  print('\\nResposta: ', response.text, '\\n')\n",
        "  print('---------------------------------------------------------------------')\n",
        "\n",
        "  os.remove(picture)\n",
        "\n",
        "  prompt = input('Ensira seu prompt: ')"
      ],
      "metadata": {
        "id": "f6bkbtQVEq6a",
        "outputId": "3a059f4b-130b-4167-c75e-1b9ddd42d2ad",
        "colab": {
          "base_uri": "https://localhost:8080/",
          "height": 596
        }
      },
      "execution_count": 27,
      "outputs": [
        {
          "output_type": "stream",
          "name": "stdout",
          "text": [
            "\n",
            "\n"
          ]
        },
        {
          "output_type": "display_data",
          "data": {
            "text/plain": [
              "<IPython.core.display.HTML object>"
            ],
            "text/html": [
              "\n",
              "     <input type=\"file\" id=\"files-a5fd0df4-7fb7-4eb9-ade1-dd6629b00b4e\" name=\"files[]\" multiple disabled\n",
              "        style=\"border:none\" />\n",
              "     <output id=\"result-a5fd0df4-7fb7-4eb9-ade1-dd6629b00b4e\">\n",
              "      Upload widget is only available when the cell has been executed in the\n",
              "      current browser session. Please rerun this cell to enable.\n",
              "      </output>\n",
              "      <script>// Copyright 2017 Google LLC\n",
              "//\n",
              "// Licensed under the Apache License, Version 2.0 (the \"License\");\n",
              "// you may not use this file except in compliance with the License.\n",
              "// You may obtain a copy of the License at\n",
              "//\n",
              "//      http://www.apache.org/licenses/LICENSE-2.0\n",
              "//\n",
              "// Unless required by applicable law or agreed to in writing, software\n",
              "// distributed under the License is distributed on an \"AS IS\" BASIS,\n",
              "// WITHOUT WARRANTIES OR CONDITIONS OF ANY KIND, either express or implied.\n",
              "// See the License for the specific language governing permissions and\n",
              "// limitations under the License.\n",
              "\n",
              "/**\n",
              " * @fileoverview Helpers for google.colab Python module.\n",
              " */\n",
              "(function(scope) {\n",
              "function span(text, styleAttributes = {}) {\n",
              "  const element = document.createElement('span');\n",
              "  element.textContent = text;\n",
              "  for (const key of Object.keys(styleAttributes)) {\n",
              "    element.style[key] = styleAttributes[key];\n",
              "  }\n",
              "  return element;\n",
              "}\n",
              "\n",
              "// Max number of bytes which will be uploaded at a time.\n",
              "const MAX_PAYLOAD_SIZE = 100 * 1024;\n",
              "\n",
              "function _uploadFiles(inputId, outputId) {\n",
              "  const steps = uploadFilesStep(inputId, outputId);\n",
              "  const outputElement = document.getElementById(outputId);\n",
              "  // Cache steps on the outputElement to make it available for the next call\n",
              "  // to uploadFilesContinue from Python.\n",
              "  outputElement.steps = steps;\n",
              "\n",
              "  return _uploadFilesContinue(outputId);\n",
              "}\n",
              "\n",
              "// This is roughly an async generator (not supported in the browser yet),\n",
              "// where there are multiple asynchronous steps and the Python side is going\n",
              "// to poll for completion of each step.\n",
              "// This uses a Promise to block the python side on completion of each step,\n",
              "// then passes the result of the previous step as the input to the next step.\n",
              "function _uploadFilesContinue(outputId) {\n",
              "  const outputElement = document.getElementById(outputId);\n",
              "  const steps = outputElement.steps;\n",
              "\n",
              "  const next = steps.next(outputElement.lastPromiseValue);\n",
              "  return Promise.resolve(next.value.promise).then((value) => {\n",
              "    // Cache the last promise value to make it available to the next\n",
              "    // step of the generator.\n",
              "    outputElement.lastPromiseValue = value;\n",
              "    return next.value.response;\n",
              "  });\n",
              "}\n",
              "\n",
              "/**\n",
              " * Generator function which is called between each async step of the upload\n",
              " * process.\n",
              " * @param {string} inputId Element ID of the input file picker element.\n",
              " * @param {string} outputId Element ID of the output display.\n",
              " * @return {!Iterable<!Object>} Iterable of next steps.\n",
              " */\n",
              "function* uploadFilesStep(inputId, outputId) {\n",
              "  const inputElement = document.getElementById(inputId);\n",
              "  inputElement.disabled = false;\n",
              "\n",
              "  const outputElement = document.getElementById(outputId);\n",
              "  outputElement.innerHTML = '';\n",
              "\n",
              "  const pickedPromise = new Promise((resolve) => {\n",
              "    inputElement.addEventListener('change', (e) => {\n",
              "      resolve(e.target.files);\n",
              "    });\n",
              "  });\n",
              "\n",
              "  const cancel = document.createElement('button');\n",
              "  inputElement.parentElement.appendChild(cancel);\n",
              "  cancel.textContent = 'Cancel upload';\n",
              "  const cancelPromise = new Promise((resolve) => {\n",
              "    cancel.onclick = () => {\n",
              "      resolve(null);\n",
              "    };\n",
              "  });\n",
              "\n",
              "  // Wait for the user to pick the files.\n",
              "  const files = yield {\n",
              "    promise: Promise.race([pickedPromise, cancelPromise]),\n",
              "    response: {\n",
              "      action: 'starting',\n",
              "    }\n",
              "  };\n",
              "\n",
              "  cancel.remove();\n",
              "\n",
              "  // Disable the input element since further picks are not allowed.\n",
              "  inputElement.disabled = true;\n",
              "\n",
              "  if (!files) {\n",
              "    return {\n",
              "      response: {\n",
              "        action: 'complete',\n",
              "      }\n",
              "    };\n",
              "  }\n",
              "\n",
              "  for (const file of files) {\n",
              "    const li = document.createElement('li');\n",
              "    li.append(span(file.name, {fontWeight: 'bold'}));\n",
              "    li.append(span(\n",
              "        `(${file.type || 'n/a'}) - ${file.size} bytes, ` +\n",
              "        `last modified: ${\n",
              "            file.lastModifiedDate ? file.lastModifiedDate.toLocaleDateString() :\n",
              "                                    'n/a'} - `));\n",
              "    const percent = span('0% done');\n",
              "    li.appendChild(percent);\n",
              "\n",
              "    outputElement.appendChild(li);\n",
              "\n",
              "    const fileDataPromise = new Promise((resolve) => {\n",
              "      const reader = new FileReader();\n",
              "      reader.onload = (e) => {\n",
              "        resolve(e.target.result);\n",
              "      };\n",
              "      reader.readAsArrayBuffer(file);\n",
              "    });\n",
              "    // Wait for the data to be ready.\n",
              "    let fileData = yield {\n",
              "      promise: fileDataPromise,\n",
              "      response: {\n",
              "        action: 'continue',\n",
              "      }\n",
              "    };\n",
              "\n",
              "    // Use a chunked sending to avoid message size limits. See b/62115660.\n",
              "    let position = 0;\n",
              "    do {\n",
              "      const length = Math.min(fileData.byteLength - position, MAX_PAYLOAD_SIZE);\n",
              "      const chunk = new Uint8Array(fileData, position, length);\n",
              "      position += length;\n",
              "\n",
              "      const base64 = btoa(String.fromCharCode.apply(null, chunk));\n",
              "      yield {\n",
              "        response: {\n",
              "          action: 'append',\n",
              "          file: file.name,\n",
              "          data: base64,\n",
              "        },\n",
              "      };\n",
              "\n",
              "      let percentDone = fileData.byteLength === 0 ?\n",
              "          100 :\n",
              "          Math.round((position / fileData.byteLength) * 100);\n",
              "      percent.textContent = `${percentDone}% done`;\n",
              "\n",
              "    } while (position < fileData.byteLength);\n",
              "  }\n",
              "\n",
              "  // All done.\n",
              "  yield {\n",
              "    response: {\n",
              "      action: 'complete',\n",
              "    }\n",
              "  };\n",
              "}\n",
              "\n",
              "scope.google = scope.google || {};\n",
              "scope.google.colab = scope.google.colab || {};\n",
              "scope.google.colab._files = {\n",
              "  _uploadFiles,\n",
              "  _uploadFilesContinue,\n",
              "};\n",
              "})(self);\n",
              "</script> "
            ]
          },
          "metadata": {}
        },
        {
          "name": "stdout",
          "output_type": "stream",
          "text": [
            "Saving michael_jordan.png to michael_jordan.png\n",
            "---------------------------------------------------------------------\n",
            "\n",
            "Resposta:  A imagem mostra Michael Jordan, lendário jogador de basquete, em um close-up, em quadra, trajando o uniforme clássico branco e vermelho do Chicago Bulls, com o número 23 estampado em vermelho e preto. \n",
            "\n",
            "**Michael Jordan:**\n",
            "\n",
            "* **Expressão:** Seu rosto está sério, com olhar fixo e determinado, transmitindo a intensidade e foco característicos do atleta. \n",
            "* **Físico:** A pele negra e brilhante de suor destaca o esforço físico do jogo.  Seus braços fortes e definidos evidenciam a força e preparo físico. \n",
            "* **Uniforme:** A camisa branca, com detalhes em vermelho e preto, está úmida de suor, mostrando o quão intenso é o jogo. \n",
            "\n",
            "**Plano de fundo:**\n",
            "\n",
            "* **Multidão:** Ao fundo, vemos uma multidão borrada, composta por pessoas de diferentes etnias e idades, vestindo roupas variadas. A indefinição da multidão coloca o foco em Michael Jordan, destacando-o como o ponto central da imagem.\n",
            "* **Cores:** As cores vibrantes do uniforme de Jordan contrastam com o fundo desfocado em tons pastéis, criando um efeito visual que realça a figura do jogador. \n",
            "\n",
            "**Enquadramento:**\n",
            "\n",
            "* **Close-up:** O enquadramento em close-up aproxima o espectador de Michael Jordan, permitindo observar seus detalhes faciais e a intensidade de sua expressão. \n",
            "* **Ponto de vista:** A foto é tirada de um ponto de vista levemente inferior, conferindo uma aura de imponência e poder à figura de Jordan.\n",
            "\n",
            "**Impressões gerais:**\n",
            "\n",
            "A imagem transmite a aura de grandeza e determinação de Michael Jordan, capturando a essência do lendário jogador em um momento de concentração e foco durante um jogo. O contraste entre a figura nítida de Jordan e a multidão desfocada ao fundo realça sua importância e o coloca como protagonista absoluto da cena. A imagem é poderosa e inspiradora, evocando a paixão e a intensidade do esporte. \n",
            " \n",
            "\n",
            "---------------------------------------------------------------------\n",
            "Ensira seu prompt: fim\n"
          ]
        }
      ]
    }
  ]
}
