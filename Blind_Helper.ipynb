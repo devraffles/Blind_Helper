{
  "nbformat": 4,
  "nbformat_minor": 0,
  "metadata": {
    "colab": {
      "provenance": [],
      "authorship_tag": "ABX9TyMDfy4aEvyBslDB4H7kKg+q",
      "include_colab_link": true
    },
    "kernelspec": {
      "name": "python3",
      "display_name": "Python 3"
    },
    "language_info": {
      "name": "python"
    }
  },
  "cells": [
    {
      "cell_type": "markdown",
      "metadata": {
        "id": "view-in-github",
        "colab_type": "text"
      },
      "source": [
        "<a href=\"https://colab.research.google.com/github/rafaelnator/Blind_Helper/blob/Blind-Helper-chat-versao-01/Blind_Helper.ipynb\" target=\"_parent\"><img src=\"https://colab.research.google.com/assets/colab-badge.svg\" alt=\"Open In Colab\"/></a>"
      ]
    },
    {
      "cell_type": "code",
      "execution_count": 17,
      "metadata": {
        "colab": {
          "base_uri": "https://localhost:8080/",
          "height": 139
        },
        "id": "8_ohvWEQfl6r",
        "outputId": "626aead4-ac71-471b-cb71-7ac3c095e820"
      },
      "outputs": [
        {
          "name": "stdout",
          "output_type": "stream",
          "text": [
            "Ensira seu prompt: que dia é hoje\n",
            "---------------------------------------------------------------------\n",
            "\n",
            "Resposta:  27 de fevereiro de 2023 \n",
            "\n",
            "---------------------------------------------------------------------\n",
            "Ensira seu prompt: fim\n"
          ]
        }
      ],
      "source": [
        "import google.generativeai as genai\n",
        "from google.colab import userdata\n",
        "\n",
        "api_key = userdata.get('api_key')\n",
        "genai.configure(api_key = api_key)\n",
        "\n",
        "generation_config = {\n",
        "    'candidate_count': 1,\n",
        "    'temperature': 0.5,\n",
        "}\n",
        "\n",
        "safety_settings = {\n",
        "    'HARASSMENT': 'BLOCK_ONLY_HIGH',\n",
        "    'HATE': 'BLOCK_ONLY_HIGH',\n",
        "    'SEXUAL': 'BLOCK_ONLY_HIGH',\n",
        "    'DANGEROUS': 'BLOCK_ONLY_HIGH',\n",
        "}\n",
        "\n",
        "model = genai.GenerativeModel(model_name = 'gemini-1.0-pro',\n",
        "                              generation_config = generation_config,\n",
        "                              safety_settings = safety_settings)\n",
        "\n",
        "chat = model.start_chat(history = [])\n",
        "\n",
        "prompt = input('Ensira seu prompt: ')\n",
        "\n",
        "while prompt != 'fim':\n",
        "  response = chat.send_message(prompt)\n",
        "  print('---------------------------------------------------------------------')\n",
        "  print('\\nResposta: ', response.text, '\\n')\n",
        "  print('---------------------------------------------------------------------')\n",
        "  prompt = input('Ensira seu prompt: ')"
      ]
    }
  ]
}