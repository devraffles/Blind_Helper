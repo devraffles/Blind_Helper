{
  "nbformat": 4,
  "nbformat_minor": 0,
  "metadata": {
    "colab": {
      "provenance": [],
      "authorship_tag": "ABX9TyOSiduTzvWP1OLlm+L+Ljli",
      "include_colab_link": true
    },
    "kernelspec": {
      "name": "python3",
      "display_name": "Python 3"
    },
    "language_info": {
      "name": "python"
    }
  },
  "cells": [
    {
      "cell_type": "markdown",
      "metadata": {
        "id": "view-in-github",
        "colab_type": "text"
      },
      "source": [
        "<a href=\"https://colab.research.google.com/github/rafaelnator/Blind_Helper/blob/Blind-Helper-chat-versao-02/Blind_Helper.ipynb\" target=\"_parent\"><img src=\"https://colab.research.google.com/assets/colab-badge.svg\" alt=\"Open In Colab\"/></a>"
      ]
    },
    {
      "cell_type": "code",
      "execution_count": null,
      "metadata": {
        "id": "8_ohvWEQfl6r"
      },
      "outputs": [],
      "source": [
        "!pip install -U -q google-generativeai"
      ]
    },
    {
      "cell_type": "code",
      "source": [
        "import google.generativeai as genai\n",
        "import os\n",
        "from google.colab import files\n",
        "from google.colab import userdata"
      ],
      "metadata": {
        "id": "mlEmCH22ADJW"
      },
      "execution_count": 21,
      "outputs": []
    },
    {
      "cell_type": "code",
      "source": [
        "api_key = userdata.get('api_key')\n",
        "genai.configure(api_key = api_key)\n",
        "\n",
        "generation_config = {\n",
        "    'candidate_count': 1,\n",
        "    'temperature': 0.5,\n",
        "}\n",
        "\n",
        "safety_settings = {\n",
        "    'HARASSMENT': 'BLOCK_ONLY_HIGH',\n",
        "    'HATE': 'BLOCK_ONLY_HIGH',\n",
        "    'SEXUAL': 'BLOCK_ONLY_HIGH',\n",
        "    'DANGEROUS': 'BLOCK_ONLY_HIGH',\n",
        "}\n",
        "\n",
        "system_instruction = \"Aja como profissional especialista em fotos, imagemdescreva com detalhamento sendo fiel, em Portugues do Brasil\"\n",
        "\n",
        "model_gemini = \"gemini-1.5-pro-latest\"\n",
        "\n",
        "model = genai.GenerativeModel(model_name = model_gemini,\n",
        "                              generation_config = generation_config,\n",
        "                              system_instruction=system_instruction,\n",
        "                              safety_settings = safety_settings)"
      ],
      "metadata": {
        "id": "7NSw1uxJAFvm"
      },
      "execution_count": null,
      "outputs": []
    },
    {
      "cell_type": "code",
      "source": [
        "chat = model.start_chat(history = [])\n",
        "\n",
        "\n",
        "print('-----------------------------------------------')\n",
        "print('|       Seja Bem-Vindo ao Blind Helper        |')\n",
        "print('-----------------------------------------------')\n",
        "\n",
        "print('\\n-------------------------------------------------')\n",
        "print('|    Escolha qual Funcionalidade Desejada       |')\n",
        "print('-------------------------------------------------')\n",
        "print('|            Descrever uma Imagem               |')\n",
        "print('-------------------------------------------------')\n",
        "print('|          Digite fim para finalizar            |')\n",
        "print('-------------------------------------------------')\n",
        "\n",
        "prompt = input('\\nDigite sua opção: ')\n",
        "\n",
        "while prompt != 'fim':\n",
        "\n",
        "  print('\\n')\n",
        "  uploaded = files.upload()\n",
        "  picture = next(iter(uploaded))\n",
        "\n",
        "  #for fn in uploaded.keys():\n",
        "    #print('User uploaded file \"{name}\" with length {length} bytes'.format(\n",
        "        #name=fn, length=len(uploaded[fn])))\n",
        "\n",
        "  prompt = [genai.upload_file(picture), \"Descreva com detalhes a imagem\"]\n",
        "  response = chat.send_message(prompt)\n",
        "\n",
        "  print('---------------------------------------------------------------------')\n",
        "  print('\\nResposta: ', response.text, '\\n')\n",
        "  print('---------------------------------------------------------------------')\n",
        "\n",
        "  os.remove(picture)\n",
        "\n",
        "  prompt = input('Ensira seu prompt: ')"
      ],
      "metadata": {
        "id": "CTSo6vn8AJke"
      },
      "execution_count": null,
      "outputs": []
    }
  ]
}